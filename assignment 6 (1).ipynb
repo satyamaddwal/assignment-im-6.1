{
 "cells": [
  {
   "cell_type": "code",
   "execution_count": 4,
   "id": "f129f014-06d0-481f-afa8-0854c0d7c37f",
   "metadata": {},
   "outputs": [
    {
     "name": "stdin",
     "output_type": "stream",
     "text": [
      "enter the percentage 93\n"
     ]
    },
    {
     "name": "stdout",
     "output_type": "stream",
     "text": [
      "A\n"
     ]
    }
   ],
   "source": [
    "''' Question 1.     '''\n",
    "\n",
    "# solution \n",
    "\n",
    "per = int(input('enter the percentage'))\n",
    "O = 100  # marks out of\n",
    "m = (per*O)/100\n",
    "if m > 90 :\n",
    "    print('A')\n",
    "elif m > 80 and m <= 90 :\n",
    "    print('B')\n",
    "elif m >= 60 and m < 80:\n",
    "    print('C')\n",
    "else:\n",
    "    print('D')"
   ]
  },
  {
   "cell_type": "code",
   "execution_count": 9,
   "id": "05918cb3-62ce-4717-b79b-585bd0fdf0ed",
   "metadata": {},
   "outputs": [
    {
     "name": "stdin",
     "output_type": "stream",
     "text": [
      "enter a cost 70000\n"
     ]
    },
    {
     "name": "stdout",
     "output_type": "stream",
     "text": [
      "7000.0\n"
     ]
    }
   ],
   "source": [
    "''' Question 2.    '''\n",
    "\n",
    "# solution\n",
    "\n",
    "c = int(input('enter a cost'))\n",
    "\n",
    "if c > 100000:\n",
    "    print(c*15/100)\n",
    "elif c > 50000 and c <= 100000:\n",
    "    print(c*10/100)\n",
    "else:\n",
    "    print(c*5/100)"
   ]
  },
  {
   "cell_type": "code",
   "execution_count": 11,
   "id": "98b487a7-3fd3-4888-8fe1-01f3c2a06d3d",
   "metadata": {},
   "outputs": [
    {
     "name": "stdin",
     "output_type": "stream",
     "text": [
      "enter the city Agra\n"
     ]
    },
    {
     "name": "stdout",
     "output_type": "stream",
     "text": [
      "Taj Mahal\n"
     ]
    }
   ],
   "source": [
    "''' Question 3.    '''\n",
    "\n",
    "# solution \n",
    "\n",
    "city = input('enter the city')\n",
    "if city == 'delhi':\n",
    "    print('Red fort')\n",
    "    \n",
    "elif city == 'Agra':\n",
    "    print('Taj Mahal')\n",
    "    \n",
    "elif city == 'jaipur':\n",
    "    print('jal mahal')"
   ]
  },
  {
   "cell_type": "code",
   "execution_count": 1,
   "id": "08aa69cf-e200-4a70-8802-8490d43838f3",
   "metadata": {},
   "outputs": [
    {
     "name": "stdin",
     "output_type": "stream",
     "text": [
      "enter your number 600\n"
     ]
    },
    {
     "name": "stdout",
     "output_type": "stream",
     "text": [
      "4\n"
     ]
    }
   ],
   "source": [
    "''' Question 4. check how many times a given numbers can be divided by three before it is less than equal to 10.  '''\n",
    "\n",
    "# solution\n",
    "c = float(input('enter your number'))\n",
    "count = 0\n",
    "\n",
    "while c >= 10:\n",
    "    c = c/3\n",
    "    count = count + 1\n",
    "print(count)\n",
    "    "
   ]
  },
  {
   "cell_type": "code",
   "execution_count": 4,
   "id": "5a50c7ad-f162-4f20-934c-6b647312ae46",
   "metadata": {},
   "outputs": [
    {
     "data": {
      "text/plain": [
       "'\\nA while loop is a control flow tool that allows you to execute a block of code repeatedly until a certain condition is met.\\nunlike a for loop , which iterates over a fixed sequence of values.\\n'"
      ]
     },
     "execution_count": 4,
     "metadata": {},
     "output_type": "execute_result"
    }
   ],
   "source": [
    "''' Question 5. why and when to use while loop in python give a detailed description with example  '''\n",
    "\n",
    "# solution \n",
    "'''\n",
    "A while loop is a control flow tool that allows you to execute a block of code repeatedly until a certain condition is met.\n",
    "unlike a for loop , which iterates over a fixed sequence of values.\n",
    "'''"
   ]
  },
  {
   "cell_type": "code",
   "execution_count": 10,
   "id": "16fe8765-f0cf-4603-86d6-f7834954c2e9",
   "metadata": {},
   "outputs": [
    {
     "name": "stdout",
     "output_type": "stream",
     "text": [
      "* \n",
      "* * \n",
      "* * * \n",
      "* * * * \n",
      "* * * * * \n"
     ]
    }
   ],
   "source": [
    "''' Question 6. use nested while loop to print 3 different pattern.  '''\n",
    "\n",
    "# solution \n",
    "i = 1\n",
    "while i <= 5:\n",
    "    j = 1\n",
    "    while j <= i:\n",
    "        \n",
    "        print('*', end = ' ')\n",
    "        j = j+1\n",
    "    print()\n",
    "    i = i+1\n",
    "    \n",
    "    \n",
    "i = 1\n",
    "while i <=5:\n",
    "    j = 1\n",
    "    while J <= 5:\n",
    "        "
   ]
  },
  {
   "cell_type": "code",
   "execution_count": 1,
   "id": "9f2d38c9-884e-4309-9ae3-0249ba23a2f3",
   "metadata": {},
   "outputs": [
    {
     "name": "stdout",
     "output_type": "stream",
     "text": [
      "10\n",
      "9\n",
      "8\n",
      "7\n",
      "6\n",
      "5\n",
      "4\n",
      "3\n",
      "2\n",
      "1\n"
     ]
    }
   ],
   "source": [
    "''' Question 7. Reverse a while loop to display numbers from 10 to 1.   '''\n",
    "\n",
    "# solution\n",
    "\n",
    "i = 10\n",
    "while i > 0:\n",
    "    print(i)\n",
    "    i = i-1"
   ]
  },
  {
   "cell_type": "code",
   "execution_count": 2,
   "id": "09895a27-8f20-4df2-aebf-ea5e296f6be5",
   "metadata": {},
   "outputs": [
    {
     "name": "stdout",
     "output_type": "stream",
     "text": [
      "10\n",
      "9\n",
      "8\n",
      "7\n",
      "6\n",
      "5\n",
      "4\n",
      "3\n",
      "2\n",
      "1\n"
     ]
    }
   ],
   "source": [
    "''' Question 8. Reverse a while loop to display numbers from 10 to 1.   '''\n",
    "\n",
    "# solution\n",
    "\n",
    "i = 10\n",
    "while i > 0:\n",
    "    print(i)\n",
    "    i = i-1"
   ]
  },
  {
   "cell_type": "code",
   "execution_count": null,
   "id": "97df6866-55d9-4e6f-bb9a-10c139a1fc14",
   "metadata": {},
   "outputs": [],
   "source": []
  }
 ],
 "metadata": {
  "kernelspec": {
   "display_name": "Python 3 (ipykernel)",
   "language": "python",
   "name": "python3"
  },
  "language_info": {
   "codemirror_mode": {
    "name": "ipython",
    "version": 3
   },
   "file_extension": ".py",
   "mimetype": "text/x-python",
   "name": "python",
   "nbconvert_exporter": "python",
   "pygments_lexer": "ipython3",
   "version": "3.10.8"
  }
 },
 "nbformat": 4,
 "nbformat_minor": 5
}
